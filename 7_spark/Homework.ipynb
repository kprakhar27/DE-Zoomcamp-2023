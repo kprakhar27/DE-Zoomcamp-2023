{
 "cells": [
  {
   "cell_type": "code",
   "execution_count": 1,
   "id": "00bc6543",
   "metadata": {},
   "outputs": [],
   "source": [
    "import pyspark\n",
    "from pyspark.sql import SparkSession\n",
    "from pyspark.sql import types"
   ]
  },
  {
   "cell_type": "code",
   "execution_count": 2,
   "id": "cd4a0f3d",
   "metadata": {},
   "outputs": [],
   "source": [
    "spark = SparkSession.builder \\\n",
    "    .master(\"local[*]\") \\\n",
    "    .appName('test') \\\n",
    "    .getOrCreate()"
   ]
  },
  {
   "cell_type": "markdown",
   "id": "3a7e3051",
   "metadata": {},
   "source": [
    "### Question 1\n",
    "Run the command \"spark.version\" What version number is output?"
   ]
  },
  {
   "cell_type": "code",
   "execution_count": 3,
   "id": "eb3e4c36",
   "metadata": {},
   "outputs": [
    {
     "data": {
      "text/plain": [
       "'3.3.2'"
      ]
     },
     "execution_count": 3,
     "metadata": {},
     "output_type": "execute_result"
    }
   ],
   "source": [
    "spark.version"
   ]
  },
  {
   "cell_type": "markdown",
   "id": "462354fc",
   "metadata": {},
   "source": [
    "### Downlaod Data"
   ]
  },
  {
   "cell_type": "markdown",
   "id": "928fdd0d",
   "metadata": {},
   "source": [
    "```bash\n",
    "wget https://github.com/DataTalksClub/nyc-tlc-data/releases/download/fhvhv/fhvhv_tripdata_2021-06.csv.gz\n",
    "```"
   ]
  },
  {
   "cell_type": "markdown",
   "id": "6ef41c72",
   "metadata": {},
   "source": [
    "```bash\n",
    "gzip -d fhvhv_tripdata_2021-06.csv.gz\n",
    "```"
   ]
  },
  {
   "cell_type": "markdown",
   "id": "a78fc6c8",
   "metadata": {},
   "source": [
    "```bash\n",
    "wc -l fhvhv_tripdata_2021-06.csv\n",
    "```"
   ]
  },
  {
   "cell_type": "markdown",
   "id": "bb84cbe8",
   "metadata": {},
   "source": [
    "### Question 2\n",
    "Repartition the June 2021 HVFHV Data into 12 partitions and save it to Parquet. What is the average size of the Parquet Files?"
   ]
  },
  {
   "cell_type": "code",
   "execution_count": 4,
   "id": "0a3399a3",
   "metadata": {},
   "outputs": [],
   "source": [
    "schema = types.StructType([\n",
    "    types.StructField('dispatching_base_num', types.StringType(), True),\n",
    "    types.StructField('pickup_datetime', types.TimestampType(), True),\n",
    "    types.StructField('dropoff_datetime', types.TimestampType(), True),\n",
    "    types.StructField('PULocationID', types.IntegerType(), True),\n",
    "    types.StructField('DOLocationID', types.IntegerType(), True),\n",
    "    types.StructField('SR_Flag', types.StringType(), True),\n",
    "    types.StructField('Affiliated_base_number', types.StringType(), True)\n",
    "])"
   ]
  },
  {
   "cell_type": "code",
   "execution_count": 5,
   "id": "68bc8b72",
   "metadata": {},
   "outputs": [],
   "source": [
    "df = spark.read \\\n",
    "    .option(\"header\", \"true\") \\\n",
    "    .schema(schema) \\\n",
    "    .csv('fhvhv_tripdata_2021-06.csv')\n",
    "\n",
    "df = df.repartition(12)\n",
    "\n",
    "df.write.parquet('data/pq/fhvhv/2021/06/', mode='overwrite')"
   ]
  },
  {
   "cell_type": "markdown",
   "id": "e2f334e2",
   "metadata": {},
   "source": [
    "```bash\n",
    "ls -lh data/pq/fhvhv/2021/06/\n",
    "```"
   ]
  },
  {
   "cell_type": "markdown",
   "id": "48b01d2f",
   "metadata": {},
   "source": [
    "### Question 3\n",
    "How many taxi trips were started on June 15th?"
   ]
  },
  {
   "cell_type": "code",
   "execution_count": 6,
   "id": "58989b55",
   "metadata": {},
   "outputs": [],
   "source": [
    "df = spark.read.parquet('data/pq/fhvhv/2021/06/')"
   ]
  },
  {
   "cell_type": "code",
   "execution_count": 7,
   "id": "9ee69fd4",
   "metadata": {},
   "outputs": [],
   "source": [
    "from pyspark.sql.functions import *"
   ]
  },
  {
   "cell_type": "code",
   "execution_count": 8,
   "id": "6c2500fd",
   "metadata": {},
   "outputs": [
    {
     "data": {
      "text/plain": [
       "452470"
      ]
     },
     "execution_count": 8,
     "metadata": {},
     "output_type": "execute_result"
    }
   ],
   "source": [
    "df \\\n",
    "    .withColumn('pickup_date', to_date(df.pickup_datetime)) \\\n",
    "    .filter(\"pickup_date = '2021-06-15'\") \\\n",
    "    .count()"
   ]
  },
  {
   "cell_type": "markdown",
   "id": "f8e9c418",
   "metadata": {},
   "source": [
    "#### With SQL"
   ]
  },
  {
   "cell_type": "code",
   "execution_count": 9,
   "id": "dd7ae60d",
   "metadata": {},
   "outputs": [],
   "source": [
    "df.createOrReplaceTempView('fhvhv_2021_06')"
   ]
  },
  {
   "cell_type": "code",
   "execution_count": 10,
   "id": "6d47c147",
   "metadata": {},
   "outputs": [
    {
     "name": "stdout",
     "output_type": "stream",
     "text": [
      "+--------+\n",
      "|count(1)|\n",
      "+--------+\n",
      "|  452470|\n",
      "+--------+\n",
      "\n"
     ]
    }
   ],
   "source": [
    "spark.sql(\"\"\"\n",
    "SELECT\n",
    "    COUNT(1)\n",
    "FROM \n",
    "    fhvhv_2021_06\n",
    "WHERE\n",
    "    to_date(pickup_datetime) = '2021-06-15';\n",
    "\"\"\").show()"
   ]
  },
  {
   "cell_type": "markdown",
   "id": "ae3f533b",
   "metadata": {},
   "source": [
    "### Question 4\n",
    "How long is the longest trip in the dataset?"
   ]
  },
  {
   "cell_type": "code",
   "execution_count": 11,
   "id": "7befe422",
   "metadata": {},
   "outputs": [
    {
     "data": {
      "text/plain": [
       "['dispatching_base_num',\n",
       " 'pickup_datetime',\n",
       " 'dropoff_datetime',\n",
       " 'PULocationID',\n",
       " 'DOLocationID',\n",
       " 'SR_Flag',\n",
       " 'Affiliated_base_number']"
      ]
     },
     "execution_count": 11,
     "metadata": {},
     "output_type": "execute_result"
    }
   ],
   "source": [
    "df.columns"
   ]
  },
  {
   "cell_type": "code",
   "execution_count": 12,
   "id": "279d9161",
   "metadata": {},
   "outputs": [
    {
     "name": "stdout",
     "output_type": "stream",
     "text": [
      "+-------------------+-------------------+------------+------------+--------+---------------+\n",
      "|    pickup_datetime|   dropoff_datetime|PULocationID|DOLocationID|duration|durationInHours|\n",
      "+-------------------+-------------------+------------+------------+--------+---------------+\n",
      "|2021-06-25 13:55:41|2021-06-28 08:48:25|          98|         265|  240764|          66.88|\n",
      "|2021-06-22 12:09:45|2021-06-23 13:42:44|         188|         198|   91979|          25.55|\n",
      "|2021-06-27 10:32:29|2021-06-28 06:31:20|          78|         169|   71931|          19.98|\n",
      "|2021-06-26 22:37:11|2021-06-27 16:49:01|         263|          36|   65510|           18.2|\n",
      "|2021-06-23 20:40:43|2021-06-24 13:08:44|           3|         247|   59281|          16.47|\n",
      "+-------------------+-------------------+------------+------------+--------+---------------+\n",
      "\n"
     ]
    }
   ],
   "source": [
    "df \\\n",
    "    .withColumn('duration', df.dropoff_datetime.cast('long') - df.pickup_datetime.cast('long')) \\\n",
    "    .withColumn('durationInHours',round(col('duration')/3600, 2)) \\\n",
    "    .orderBy('duration', ascending=False) \\\n",
    "    .drop('dispatching_base_num','Affiliated_base_number','SR_Flag') \\\n",
    "    .limit(5) \\\n",
    "    .show()"
   ]
  },
  {
   "cell_type": "markdown",
   "id": "a6774765",
   "metadata": {},
   "source": [
    "#### With SQL"
   ]
  },
  {
   "cell_type": "code",
   "execution_count": 13,
   "id": "74cf0e8b",
   "metadata": {
    "scrolled": true
   },
   "outputs": [
    {
     "name": "stdout",
     "output_type": "stream",
     "text": [
      "+-------------------+-------------------+------------+------------+--------+---------------+\n",
      "|    pickup_datetime|   dropoff_datetime|PULocationID|DOLocationID|duration|durationInHours|\n",
      "+-------------------+-------------------+------------+------------+--------+---------------+\n",
      "|2021-06-25 13:55:41|2021-06-28 08:48:25|          98|         265|  240764|          66.88|\n",
      "|2021-06-22 12:09:45|2021-06-23 13:42:44|         188|         198|   91979|          25.55|\n",
      "|2021-06-27 10:32:29|2021-06-28 06:31:20|          78|         169|   71931|          19.98|\n",
      "|2021-06-26 22:37:11|2021-06-27 16:49:01|         263|          36|   65510|           18.2|\n",
      "|2021-06-23 20:40:43|2021-06-24 13:08:44|           3|         247|   59281|          16.47|\n",
      "+-------------------+-------------------+------------+------------+--------+---------------+\n",
      "\n"
     ]
    }
   ],
   "source": [
    "spark.sql(\"\"\"\n",
    "SELECT\n",
    "    pickup_datetime,\n",
    "    dropoff_datetime,\n",
    "    PULocationID,\n",
    "    DOLocationID,\n",
    "    ROUND((CAST(dropoff_datetime AS LONG) - CAST(pickup_datetime AS LONG)), 2) AS duration,\n",
    "    ROUND((CAST(dropoff_datetime AS LONG) - CAST(pickup_datetime AS LONG)) / 3600, 2) AS durationInHours\n",
    "FROM \n",
    "    fhvhv_2021_06\n",
    "ORDER BY\n",
    "    6 DESC\n",
    "LIMIT 5;\n",
    "\"\"\").show()"
   ]
  },
  {
   "cell_type": "markdown",
   "id": "d915096b",
   "metadata": {},
   "source": [
    "### Question 5\n",
    "What port does Spark's User Interface Dashboard run on by default?"
   ]
  },
  {
   "cell_type": "markdown",
   "id": "1eaa1d35",
   "metadata": {},
   "source": [
    "#### Ans\n",
    "4040"
   ]
  },
  {
   "cell_type": "markdown",
   "id": "1c969c58",
   "metadata": {},
   "source": [
    "### Question 6\n",
    "What is the name of the most frequent pickup location zone?"
   ]
  },
  {
   "cell_type": "code",
   "execution_count": 14,
   "id": "0e23f1f8",
   "metadata": {},
   "outputs": [],
   "source": [
    "df_zones = spark.read.parquet('zones/')"
   ]
  },
  {
   "cell_type": "code",
   "execution_count": 15,
   "id": "160f1130",
   "metadata": {},
   "outputs": [],
   "source": [
    "df_joined = df.join(df_zones, df.PULocationID == df_zones.LocationID)"
   ]
  },
  {
   "cell_type": "code",
   "execution_count": 16,
   "id": "42e47d96",
   "metadata": {},
   "outputs": [
    {
     "name": "stdout",
     "output_type": "stream",
     "text": [
      "+-------------------+-------------------+------------+------------+-------------+--------------------+------------+\n",
      "|    pickup_datetime|   dropoff_datetime|PULocationID|DOLocationID|      Borough|                Zone|service_zone|\n",
      "+-------------------+-------------------+------------+------------+-------------+--------------------+------------+\n",
      "|2021-06-02 18:08:07|2021-06-02 18:44:45|          82|         169|       Queens|            Elmhurst|   Boro Zone|\n",
      "|2021-06-01 10:16:48|2021-06-01 11:04:03|         122|          71|       Queens|              Hollis|   Boro Zone|\n",
      "|2021-06-04 10:54:32|2021-06-04 11:20:41|         121|         226|       Queens|   Hillcrest/Pomonok|   Boro Zone|\n",
      "|2021-06-04 09:48:41|2021-06-04 10:19:33|         139|          86|       Queens|           Laurelton|   Boro Zone|\n",
      "|2021-06-02 12:43:19|2021-06-02 13:00:35|          53|          83|       Queens|       College Point|   Boro Zone|\n",
      "|2021-06-03 13:49:44|2021-06-03 14:17:44|         228|          71|     Brooklyn|    Sunset Park West|   Boro Zone|\n",
      "|2021-06-02 06:24:32|2021-06-02 06:31:57|          78|         167|        Bronx|        East Tremont|   Boro Zone|\n",
      "|2021-06-02 19:33:09|2021-06-02 19:59:00|         181|          91|     Brooklyn|          Park Slope|   Boro Zone|\n",
      "|2021-06-03 08:52:18|2021-06-03 08:59:52|         197|         216|       Queens|       Richmond Hill|   Boro Zone|\n",
      "|2021-06-01 17:23:07|2021-06-01 17:33:54|         237|         141|    Manhattan|Upper East Side S...| Yellow Zone|\n",
      "|2021-06-02 02:20:51|2021-06-02 02:40:16|          36|         179|     Brooklyn|      Bushwick North|   Boro Zone|\n",
      "|2021-06-02 19:45:53|2021-06-02 19:54:44|         133|          89|     Brooklyn|          Kensington|   Boro Zone|\n",
      "|2021-06-03 07:22:17|2021-06-03 07:35:04|         186|          13|    Manhattan|Penn Station/Madi...| Yellow Zone|\n",
      "|2021-06-04 20:17:54|2021-06-04 20:39:10|         181|          89|     Brooklyn|          Park Slope|   Boro Zone|\n",
      "|2021-06-01 00:33:31|2021-06-01 01:00:45|         141|         265|    Manhattan|     Lenox Hill West| Yellow Zone|\n",
      "|2021-06-03 19:07:56|2021-06-03 19:29:24|         255|          87|     Brooklyn|Williamsburg (Nor...|   Boro Zone|\n",
      "|2021-06-01 19:14:34|2021-06-01 19:26:50|          80|         256|     Brooklyn|   East Williamsburg|   Boro Zone|\n",
      "|2021-06-02 16:35:13|2021-06-02 17:06:42|         182|         247|        Bronx|         Parkchester|   Boro Zone|\n",
      "|2021-06-01 15:06:23|2021-06-01 15:14:19|         118|         172|Staten Island|Heartland Village...|   Boro Zone|\n",
      "|2021-06-01 15:03:49|2021-06-01 16:00:21|          69|         114|        Bronx|East Concourse/Co...|   Boro Zone|\n",
      "+-------------------+-------------------+------------+------------+-------------+--------------------+------------+\n",
      "only showing top 20 rows\n",
      "\n"
     ]
    }
   ],
   "source": [
    "df_joined.drop('LocationID','dispatching_base_num','Affiliated_base_number','SR_Flag').show()"
   ]
  },
  {
   "cell_type": "code",
   "execution_count": 17,
   "id": "a78f9fe3",
   "metadata": {},
   "outputs": [
    {
     "name": "stdout",
     "output_type": "stream",
     "text": [
      "+-------------------+------+\n",
      "|               Zone| count|\n",
      "+-------------------+------+\n",
      "|Crown Heights North|231279|\n",
      "|       East Village|221244|\n",
      "|        JFK Airport|188867|\n",
      "|     Bushwick South|187929|\n",
      "|      East New York|186780|\n",
      "+-------------------+------+\n",
      "\n"
     ]
    }
   ],
   "source": [
    "df_joined \\\n",
    "    .groupBy('Zone') \\\n",
    "        .count() \\\n",
    "    .orderBy('count', ascending=False) \\\n",
    "    .limit(5) \\\n",
    "    .show()"
   ]
  },
  {
   "cell_type": "markdown",
   "id": "ee93de71",
   "metadata": {},
   "source": [
    "#### With SQL"
   ]
  },
  {
   "cell_type": "code",
   "execution_count": 18,
   "id": "9809bddc",
   "metadata": {},
   "outputs": [],
   "source": [
    "df_joined.createOrReplaceTempView('joined_fhv')"
   ]
  },
  {
   "cell_type": "code",
   "execution_count": 19,
   "id": "25816aa2",
   "metadata": {},
   "outputs": [
    {
     "name": "stdout",
     "output_type": "stream",
     "text": [
      "+-------------------+--------+\n",
      "|               Zone|count(1)|\n",
      "+-------------------+--------+\n",
      "|Crown Heights North|  231279|\n",
      "|       East Village|  221244|\n",
      "|        JFK Airport|  188867|\n",
      "|     Bushwick South|  187929|\n",
      "|      East New York|  186780|\n",
      "+-------------------+--------+\n",
      "\n"
     ]
    }
   ],
   "source": [
    "spark.sql(\"\"\"\n",
    "SELECT\n",
    "    Zone,\n",
    "    COUNT(1)\n",
    "FROM \n",
    "    joined_fhv\n",
    "GROUP BY\n",
    "    1\n",
    "ORDER BY\n",
    "    2 DESC\n",
    "LIMIT 5;\n",
    "\"\"\").show()"
   ]
  },
  {
   "cell_type": "markdown",
   "id": "35831f6e",
   "metadata": {},
   "source": [
    "### END"
   ]
  }
 ],
 "metadata": {
  "kernelspec": {
   "display_name": "Python 3 (ipykernel)",
   "language": "python",
   "name": "python3"
  },
  "language_info": {
   "codemirror_mode": {
    "name": "ipython",
    "version": 3
   },
   "file_extension": ".py",
   "mimetype": "text/x-python",
   "name": "python",
   "nbconvert_exporter": "python",
   "pygments_lexer": "ipython3",
   "version": "3.9.7"
  }
 },
 "nbformat": 4,
 "nbformat_minor": 5
}
