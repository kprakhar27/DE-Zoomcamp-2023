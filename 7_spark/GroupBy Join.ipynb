{
 "cells": [
  {
   "cell_type": "code",
   "execution_count": 1,
   "id": "4341e0e6",
   "metadata": {},
   "outputs": [],
   "source": [
    "import pyspark\n",
    "from pyspark.sql import SparkSession\n",
    "\n",
    "spark = SparkSession.builder \\\n",
    "    .master(\"local[*]\") \\\n",
    "    .appName('test') \\\n",
    "    .getOrCreate()"
   ]
  },
  {
   "cell_type": "markdown",
   "id": "6bab1b71",
   "metadata": {},
   "source": [
    "### Green GroupBy"
   ]
  },
  {
   "cell_type": "code",
   "execution_count": 2,
   "id": "cd304aec",
   "metadata": {},
   "outputs": [],
   "source": [
    "df_green = spark.read.parquet('data/pq/green/*/*')"
   ]
  },
  {
   "cell_type": "code",
   "execution_count": 4,
   "id": "243991f3",
   "metadata": {},
   "outputs": [],
   "source": [
    "df_green.createOrReplaceTempView('green')"
   ]
  },
  {
   "cell_type": "code",
   "execution_count": 5,
   "id": "e43764a7",
   "metadata": {},
   "outputs": [],
   "source": [
    "df_green_revenue = spark.sql(\"\"\"\n",
    "SELECT \n",
    "    date_trunc('hour', lpep_pickup_datetime) AS hour, \n",
    "    PULocationID AS zone,\n",
    "\n",
    "    SUM(total_amount) AS amount,\n",
    "    COUNT(1) AS number_records\n",
    "FROM\n",
    "    green\n",
    "WHERE\n",
    "    lpep_pickup_datetime >= '2020-01-01 00:00:00'\n",
    "GROUP BY\n",
    "    1, 2\n",
    "\"\"\")"
   ]
  },
  {
   "cell_type": "code",
   "execution_count": 6,
   "id": "3e00310e",
   "metadata": {},
   "outputs": [],
   "source": [
    "df_green_revenue \\\n",
    "    .repartition(20) \\\n",
    "    .write.parquet('data/report/revenue/green', mode='overwrite')"
   ]
  },
  {
   "cell_type": "markdown",
   "id": "36d67c1b",
   "metadata": {},
   "source": [
    "### Yellow GroupBy"
   ]
  },
  {
   "cell_type": "code",
   "execution_count": 7,
   "id": "234eace6",
   "metadata": {},
   "outputs": [],
   "source": [
    "df_yellow = spark.read.parquet('data/pq/yellow/*/*')"
   ]
  },
  {
   "cell_type": "code",
   "execution_count": 8,
   "id": "07ebb68c",
   "metadata": {},
   "outputs": [],
   "source": [
    "df_yellow.createOrReplaceTempView('yellow')"
   ]
  },
  {
   "cell_type": "code",
   "execution_count": 9,
   "id": "9d5be29d",
   "metadata": {},
   "outputs": [],
   "source": [
    "df_yellow_revenue = spark.sql(\"\"\"\n",
    "SELECT \n",
    "    date_trunc('hour', tpep_pickup_datetime) AS hour, \n",
    "    PULocationID AS zone,\n",
    "\n",
    "    SUM(total_amount) AS amount,\n",
    "    COUNT(1) AS number_records\n",
    "FROM\n",
    "    yellow\n",
    "WHERE\n",
    "    tpep_pickup_datetime >= '2020-01-01 00:00:00'\n",
    "GROUP BY\n",
    "    1, 2\n",
    "\"\"\")"
   ]
  },
  {
   "cell_type": "code",
   "execution_count": 10,
   "id": "8bd9264e",
   "metadata": {},
   "outputs": [],
   "source": [
    "df_yellow_revenue \\\n",
    "    .repartition(20) \\\n",
    "    .write.parquet('data/report/revenue/yellow', mode='overwrite')"
   ]
  },
  {
   "cell_type": "markdown",
   "id": "17eac6ac",
   "metadata": {},
   "source": [
    "### Report Join"
   ]
  },
  {
   "cell_type": "code",
   "execution_count": 11,
   "id": "fd5d74d7",
   "metadata": {},
   "outputs": [],
   "source": [
    "df_green_revenue = spark.read.parquet('data/report/revenue/green')\n",
    "df_yellow_revenue = spark.read.parquet('data/report/revenue/yellow')"
   ]
  },
  {
   "cell_type": "code",
   "execution_count": 12,
   "id": "35015ee6",
   "metadata": {},
   "outputs": [],
   "source": [
    "df_green_revenue_tmp = df_green_revenue \\\n",
    "    .withColumnRenamed('amount', 'green_amount') \\\n",
    "    .withColumnRenamed('number_records', 'green_number_records')\n",
    "\n",
    "df_yellow_revenue_tmp = df_yellow_revenue \\\n",
    "    .withColumnRenamed('amount', 'yellow_amount') \\\n",
    "    .withColumnRenamed('number_records', 'yellow_number_records')"
   ]
  },
  {
   "cell_type": "code",
   "execution_count": 13,
   "id": "ec9f34ea",
   "metadata": {},
   "outputs": [],
   "source": [
    "df_join = df_green_revenue_tmp.join(df_yellow_revenue_tmp, on=['hour', 'zone'], how='outer')"
   ]
  },
  {
   "cell_type": "code",
   "execution_count": 14,
   "id": "10238be7",
   "metadata": {},
   "outputs": [],
   "source": [
    "df_join.write.parquet('data/report/revenue/total', mode='overwrite')"
   ]
  },
  {
   "cell_type": "markdown",
   "id": "7aa536c3",
   "metadata": {},
   "source": [
    "### Data Join"
   ]
  },
  {
   "cell_type": "code",
   "execution_count": 16,
   "id": "c3af7169",
   "metadata": {},
   "outputs": [],
   "source": [
    "df_join = spark.read.parquet('data/report/revenue/total')"
   ]
  },
  {
   "cell_type": "code",
   "execution_count": 18,
   "id": "bc2a6680",
   "metadata": {},
   "outputs": [
    {
     "name": "stdout",
     "output_type": "stream",
     "text": [
      "+-------------------+----+------------------+--------------------+------------------+---------------------+\n",
      "|               hour|zone|      green_amount|green_number_records|     yellow_amount|yellow_number_records|\n",
      "+-------------------+----+------------------+--------------------+------------------+---------------------+\n",
      "|2020-01-01 00:00:00|  24|              87.6|                   3| 754.9500000000003|                   45|\n",
      "|2020-01-01 00:00:00|  40|168.98000000000002|                   8|             89.97|                    5|\n",
      "|2020-01-01 00:00:00|  49|266.76000000000005|                  14|185.64999999999998|                   10|\n",
      "|2020-01-01 00:00:00|  50|              null|                null| 4177.479999999998|                  183|\n",
      "|2020-01-01 00:00:00|  68|              null|                null| 7825.070000000011|                  396|\n",
      "|2020-01-01 00:00:00|  87|              null|                null| 2456.669999999999|                  112|\n",
      "|2020-01-01 00:00:00|  92|             80.72|                   3|              75.3|                    1|\n",
      "|2020-01-01 00:00:00| 113|              null|                null| 3984.319999999998|                  220|\n",
      "|2020-01-01 00:00:00| 132|              null|                null| 6786.390000000005|                  139|\n",
      "|2020-01-01 00:00:00| 135|              null|                null|              18.3|                    1|\n",
      "|2020-01-01 00:00:00| 138|              null|                null|2745.8799999999997|                   72|\n",
      "|2020-01-01 00:00:00| 141|              null|                null| 4306.829999999995|                  283|\n",
      "|2020-01-01 00:00:00| 153|              25.0|                   1|               7.8|                    1|\n",
      "|2020-01-01 00:00:00| 160|              11.3|                   1|              null|                 null|\n",
      "|2020-01-01 00:00:00| 163|              null|                null|2652.9799999999977|                  152|\n",
      "|2020-01-01 00:00:00| 166| 504.0100000000001|                  33| 1597.309999999999|                  100|\n",
      "|2020-01-01 00:00:00| 170|              null|                null| 8266.010000000017|                  463|\n",
      "|2020-01-01 00:00:00| 185|              null|                null|             69.51|                    2|\n",
      "|2020-01-01 00:00:00| 186|              null|                null| 4011.449999999999|                  188|\n",
      "|2020-01-01 00:00:00| 192|              12.3|                   1|              null|                 null|\n",
      "+-------------------+----+------------------+--------------------+------------------+---------------------+\n",
      "only showing top 20 rows\n",
      "\n"
     ]
    }
   ],
   "source": [
    "df_join.show()"
   ]
  },
  {
   "cell_type": "code",
   "execution_count": 19,
   "id": "abb46398",
   "metadata": {},
   "outputs": [],
   "source": [
    "df_zones = spark.read.parquet('zones/')"
   ]
  },
  {
   "cell_type": "code",
   "execution_count": 20,
   "id": "b3cf98a5",
   "metadata": {},
   "outputs": [],
   "source": [
    "df_result = df_join.join(df_zones, df_join.zone == df_zones.LocationID)"
   ]
  },
  {
   "cell_type": "code",
   "execution_count": 21,
   "id": "fa3ee60a",
   "metadata": {},
   "outputs": [
    {
     "name": "stdout",
     "output_type": "stream",
     "text": [
      "+-------------------+------------------+--------------------+------------------+---------------------+---------+------------+\n",
      "|               hour|      green_amount|green_number_records|     yellow_amount|yellow_number_records|  Borough|service_zone|\n",
      "+-------------------+------------------+--------------------+------------------+---------------------+---------+------------+\n",
      "|2020-01-01 00:00:00|              87.6|                   3| 754.9500000000003|                   45|Manhattan| Yellow Zone|\n",
      "|2020-01-01 00:00:00|168.98000000000002|                   8|             89.97|                    5| Brooklyn|   Boro Zone|\n",
      "|2020-01-01 00:00:00|266.76000000000005|                  14|185.64999999999998|                   10| Brooklyn|   Boro Zone|\n",
      "|2020-01-01 00:00:00|              null|                null| 4177.479999999998|                  183|Manhattan| Yellow Zone|\n",
      "|2020-01-01 00:00:00|              null|                null| 7825.070000000011|                  396|Manhattan| Yellow Zone|\n",
      "|2020-01-01 00:00:00|              null|                null| 2456.669999999999|                  112|Manhattan| Yellow Zone|\n",
      "|2020-01-01 00:00:00|             80.72|                   3|              75.3|                    1|   Queens|   Boro Zone|\n",
      "|2020-01-01 00:00:00|              null|                null| 3984.319999999998|                  220|Manhattan| Yellow Zone|\n",
      "|2020-01-01 00:00:00|              null|                null| 6786.390000000005|                  139|   Queens|    Airports|\n",
      "|2020-01-01 00:00:00|              null|                null|              18.3|                    1|   Queens|   Boro Zone|\n",
      "|2020-01-01 00:00:00|              null|                null|2745.8799999999997|                   72|   Queens|    Airports|\n",
      "|2020-01-01 00:00:00|              null|                null| 4306.829999999995|                  283|Manhattan| Yellow Zone|\n",
      "|2020-01-01 00:00:00|              25.0|                   1|               7.8|                    1|Manhattan|   Boro Zone|\n",
      "|2020-01-01 00:00:00|              11.3|                   1|              null|                 null|   Queens|   Boro Zone|\n",
      "|2020-01-01 00:00:00|              null|                null|2652.9799999999977|                  152|Manhattan| Yellow Zone|\n",
      "|2020-01-01 00:00:00| 504.0100000000001|                  33| 1597.309999999999|                  100|Manhattan|   Boro Zone|\n",
      "|2020-01-01 00:00:00|              null|                null| 8266.010000000017|                  463|Manhattan| Yellow Zone|\n",
      "|2020-01-01 00:00:00|              null|                null|             69.51|                    2|    Bronx|   Boro Zone|\n",
      "|2020-01-01 00:00:00|              null|                null| 4011.449999999999|                  188|Manhattan| Yellow Zone|\n",
      "|2020-01-01 00:00:00|              12.3|                   1|              null|                 null|   Queens|   Boro Zone|\n",
      "+-------------------+------------------+--------------------+------------------+---------------------+---------+------------+\n",
      "only showing top 20 rows\n",
      "\n"
     ]
    }
   ],
   "source": [
    "df_result.drop('LocationID', 'zone').show()"
   ]
  },
  {
   "cell_type": "code",
   "execution_count": 22,
   "id": "5e0614ba",
   "metadata": {},
   "outputs": [],
   "source": [
    "df_result.drop('LocationID', 'zone').write.parquet('tmp/revenue-zones')"
   ]
  },
  {
   "cell_type": "markdown",
   "id": "1662a1d9",
   "metadata": {},
   "source": [
    "### END"
   ]
  }
 ],
 "metadata": {
  "kernelspec": {
   "display_name": "Python 3 (ipykernel)",
   "language": "python",
   "name": "python3"
  },
  "language_info": {
   "codemirror_mode": {
    "name": "ipython",
    "version": 3
   },
   "file_extension": ".py",
   "mimetype": "text/x-python",
   "name": "python",
   "nbconvert_exporter": "python",
   "pygments_lexer": "ipython3",
   "version": "3.9.7"
  }
 },
 "nbformat": 4,
 "nbformat_minor": 5
}
